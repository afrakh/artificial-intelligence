{
  "cells": [
    {
      "cell_type": "markdown",
      "metadata": {
        "id": "OQblyJ_8u2Sh"
      },
      "source": [
        "A tensor is just a way of storing data in multiple dimensions.\n"
      ]
    },
    {
      "cell_type": "code",
      "execution_count": 2,
      "metadata": {
        "id": "rWhtdf9fzNP_"
      },
      "outputs": [],
      "source": [
        "import numpy as np"
      ]
    },
    {
      "cell_type": "code",
      "execution_count": null,
      "metadata": {
        "colab": {
          "base_uri": "https://localhost:8080/"
        },
        "id": "OCCE12bXzTfb",
        "outputId": "6bb5252f-2507-4548-b3e5-192ac52cb123"
      },
      "outputs": [
        {
          "name": "stdout",
          "output_type": "stream",
          "text": [
            "[1 2 3]\n",
            "[[1 2 3]\n",
            " [4 5 6]]\n"
          ]
        }
      ],
      "source": [
        "# Creating array from list\n",
        "np_1d = np.array([1, 2, 3])\n",
        "print(np_1d)\n",
        "\n",
        "np_2d = np.array([[1, 2, 3], [4, 5, 6]])\n",
        "print(np_2d)"
      ]
    },
    {
      "cell_type": "code",
      "execution_count": null,
      "metadata": {
        "colab": {
          "base_uri": "https://localhost:8080/"
        },
        "id": "bimiQNKs2QXc",
        "outputId": "9e727500-9101-4654-f978-c16763286f0f"
      },
      "outputs": [
        {
          "name": "stdout",
          "output_type": "stream",
          "text": [
            "[1, 2, 3, 4, 1, 2, 3, 4]\n",
            "[2 4 6]\n"
          ]
        }
      ],
      "source": [
        "py_list = [1, 2, 3, 4]\n",
        "print(py_list * 2)\n",
        "\n",
        "np_array = np.array([1, 2, 3]) #element wise multiplication or broadcasting\n",
        "print(np_array * 2)"
      ]
    },
    {
      "cell_type": "code",
      "execution_count": null,
      "metadata": {
        "colab": {
          "base_uri": "https://localhost:8080/"
        },
        "id": "g9R77VAb2pZ8",
        "outputId": "033d8aa8-2d5a-40e9-b233-10af23c1a8f1"
      },
      "outputs": [
        {
          "name": "stdout",
          "output_type": "stream",
          "text": [
            "time taken by list operation 0.01010274887084961\n",
            "time taken by np array 0.0006325244903564453\n"
          ]
        }
      ],
      "source": [
        "import time\n",
        "start = time.time()\n",
        "py_list = [i * 2 for i in range(100000)]\n",
        "print(\"time taken by list operation\", time.time() - start)\n",
        "\n",
        "start = time.time()\n",
        "np_array = np.arange(100000) * 2\n",
        "print(\"time taken by np array\", time.time() - start)"
      ]
    },
    {
      "cell_type": "code",
      "execution_count": 7,
      "metadata": {
        "colab": {
          "base_uri": "https://localhost:8080/"
        },
        "id": "KGSkdzZR5J2Z",
        "outputId": "16a05287-e010-41d5-d98d-5dafdc77305b"
      },
      "outputs": [
        {
          "name": "stdout",
          "output_type": "stream",
          "text": [
            "[[0. 0.]\n",
            " [0. 0.]]\n",
            "float64\n",
            "[[1. 1.]\n",
            " [1. 1.]]\n",
            "[[7 7]\n",
            " [7 7]]\n",
            "[[0.58757388 0.51526602]\n",
            " [0.07540662 0.44919269]]\n",
            "[0 1 2 3 4 5 6 7 8 9]\n",
            "[[2.08334499e-316 0.00000000e+000 2.41907520e-312 2.14321575e-312]\n",
            " [2.46151512e-312 2.31297541e-312 2.35541533e-312 2.05833592e-312]\n",
            " [2.22809558e-312 2.56761491e-312 2.48273508e-312 2.05833592e-312]\n",
            " [2.05833592e-312 2.29175545e-312 2.07955588e-312 2.14321575e-312]]\n",
            "float64\n",
            "[]\n",
            "float64\n"
          ]
        }
      ],
      "source": [
        "# Creating array from scratch\n",
        "\n",
        "zeros = np.zeros((2, 2))\n",
        "print(zeros)\n",
        "\n",
        "print(zeros.dtype)\n",
        "\n",
        "ones = np.ones((2, 2))\n",
        "print(ones)\n",
        "\n",
        "full = np.full((2, 2), 7)\n",
        "print(full)\n",
        "\n",
        "random = np.random.random((2, 2)) # Values fluctuate between 0 and 1\n",
        "print(random)\n",
        "\n",
        "sequence = np.arange(0, 10)\n",
        "print(sequence)\n",
        "\n",
        "empty = np.empty((4, 4))\n",
        "print(empty)\n",
        "print(empty.dtype)\n",
        "\n",
        "empty_array = np.array([])\n",
        "print(empty_array)\n",
        "print(empty_array.dtype)"
      ]
    },
    {
      "cell_type": "code",
      "execution_count": 8,
      "metadata": {
        "id": "waTVBxXhTM4z"
      },
      "outputs": [],
      "source": [
        "n = zeros.astype(np.int32)"
      ]
    },
    {
      "cell_type": "code",
      "execution_count": 9,
      "metadata": {
        "colab": {
          "base_uri": "https://localhost:8080/"
        },
        "id": "7TrZ3mzxTRUN",
        "outputId": "d140703c-012f-4f28-ae2d-6d131de56ebe"
      },
      "outputs": [
        {
          "data": {
            "text/plain": [
              "array([[0, 0],\n",
              "       [0, 0]], dtype=int32)"
            ]
          },
          "execution_count": 9,
          "metadata": {},
          "output_type": "execute_result"
        }
      ],
      "source": [
        "n"
      ]
    },
    {
      "cell_type": "code",
      "execution_count": 10,
      "metadata": {
        "colab": {
          "base_uri": "https://localhost:8080/"
        },
        "id": "4iJdRr5qTVh7",
        "outputId": "aa23b2f3-b1fe-49a5-bc48-66267849a459"
      },
      "outputs": [
        {
          "data": {
            "text/plain": [
              "array([[0., 0.],\n",
              "       [0., 0.]])"
            ]
          },
          "execution_count": 10,
          "metadata": {},
          "output_type": "execute_result"
        }
      ],
      "source": [
        "zeros"
      ]
    },
    {
      "cell_type": "code",
      "execution_count": 19,
      "metadata": {
        "colab": {
          "base_uri": "https://localhost:8080/"
        },
        "id": "aR9xPRapTfbK",
        "outputId": "b1bd5d5a-5870-4eeb-844f-65e6a99cba55"
      },
      "outputs": [
        {
          "name": "stdout",
          "output_type": "stream",
          "text": [
            "[[1 2 3]\n",
            " [4 5 6]]\n",
            "[[2 3 4]\n",
            " [5 6 7]]\n",
            "[[ 1  4  9]\n",
            " [16 25 36]]\n",
            "[[0. 0. 0.]\n",
            " [0. 0. 0.]]\n",
            "[[0. 0. 0.]\n",
            " [0. 0. 0.]]\n"
          ]
        }
      ],
      "source": [
        "n5=np.array([[1,2,3],[4,5,6]])\n",
        "print(n5)\n",
        "print(n5 + 1)\n",
        "# 1 is added to each element\n",
        "# Note that how it is different than regualr array addition\n",
        "print(n5 * n5)\n",
        "zeros = np.zeros((2, 3))\n",
        "print(zeros)\n",
        "print(n5 * zeros)"
      ]
    },
    {
      "cell_type": "code",
      "execution_count": 22,
      "metadata": {
        "colab": {
          "base_uri": "https://localhost:8080/"
        },
        "id": "tCZMGE47Uqm8",
        "outputId": "badc5d67-87c8-422d-fb33-c0520bed311c"
      },
      "outputs": [
        {
          "name": "stdout",
          "output_type": "stream",
          "text": [
            "[1 2 3]\n",
            "2\n"
          ]
        },
        {
          "data": {
            "text/plain": [
              "np.int64(2)"
            ]
          },
          "execution_count": 22,
          "metadata": {},
          "output_type": "execute_result"
        }
      ],
      "source": [
        "print(n5[0])\n",
        "print(n5[0][1])\n",
        "n5[0, 1]"
      ]
    },
    {
      "cell_type": "code",
      "execution_count": 25,
      "metadata": {
        "colab": {
          "base_uri": "https://localhost:8080/"
        },
        "id": "KQGH1hL_VhQg",
        "outputId": "f2c93dbd-6828-42fd-c6cc-65c1abd2c36f"
      },
      "outputs": [
        {
          "name": "stdout",
          "output_type": "stream",
          "text": [
            "[1.         1.41421356 1.73205081]\n",
            "[1 4 9]\n",
            "2.0\n"
          ]
        }
      ],
      "source": [
        "print(np.sqrt(n5[0]))\n",
        "print(np.square(n5[0]))\n",
        "print(np.mean(n5[0]))"
      ]
    },
    {
      "cell_type": "code",
      "execution_count": 27,
      "metadata": {
        "colab": {
          "base_uri": "https://localhost:8080/"
        },
        "id": "pNekxxN-WrkB",
        "outputId": "dae5e0ec-f3db-4935-c3b8-750a11dae60e"
      },
      "outputs": [
        {
          "data": {
            "text/plain": [
              "array([[0.54661636, 0.79269146, 0.60516932, 0.32956561],\n",
              "       [0.175407  , 0.17951977, 0.61414894, 0.82564248],\n",
              "       [0.93162817, 0.27093847, 0.00501599, 0.93351497],\n",
              "       [0.07970195, 0.1541476 , 0.24658762, 0.47940285]])"
            ]
          },
          "execution_count": 27,
          "metadata": {},
          "output_type": "execute_result"
        }
      ],
      "source": [
        "# Generating a 4 by 4 array of samples from the standard normal distribution\n",
        "a=np.random.rand(4,4)\n",
        "a"
      ]
    },
    {
      "cell_type": "code",
      "execution_count": 28,
      "metadata": {
        "colab": {
          "base_uri": "https://localhost:8080/"
        },
        "id": "zl7PHDciWw8b",
        "outputId": "dbfed130-2105-45b8-fe3c-4f7544c49401"
      },
      "outputs": [
        {
          "data": {
            "text/plain": [
              "array([[ 0.1522948 ,  0.70854254, -0.47539358,  0.65022711],\n",
              "       [ 0.10445568,  0.71407731, -0.33323234, -1.06657559],\n",
              "       [-1.18274522, -2.71913149,  0.45526014, -0.80750644],\n",
              "       [ 1.31229686,  1.38972538,  0.73355215,  2.12716495]])"
            ]
          },
          "execution_count": 28,
          "metadata": {},
          "output_type": "execute_result"
        }
      ],
      "source": [
        "b=np.random.randn(4,4)\n",
        "#randn chooses values from standard normal dist (- infinity to + infinity)\n",
        "b"
      ]
    },
    {
      "cell_type": "code",
      "execution_count": 29,
      "metadata": {
        "colab": {
          "base_uri": "https://localhost:8080/"
        },
        "id": "6Tw-iIskYcnD",
        "outputId": "f7ce47c6-8289-41d4-a2be-7b57292b563a"
      },
      "outputs": [
        {
          "data": {
            "text/plain": [
              "array([[ 1.76405235,  0.40015721,  0.97873798,  2.2408932 ],\n",
              "       [ 1.86755799, -0.97727788,  0.95008842, -0.15135721],\n",
              "       [-0.10321885,  0.4105985 ,  0.14404357,  1.45427351],\n",
              "       [ 0.76103773,  0.12167502,  0.44386323,  0.33367433]])"
            ]
          },
          "execution_count": 29,
          "metadata": {},
          "output_type": "execute_result"
        }
      ],
      "source": [
        "# The seed fixes the starting point of that algorithm so you get the same sequence of numbers every time you run the code.\n",
        "# i.e. seed makes results reproducible.\n",
        "np.random.seed(0)\n",
        "c=np.random.randn(4,4)\n",
        "c"
      ]
    },
    {
      "cell_type": "code",
      "execution_count": 30,
      "metadata": {
        "colab": {
          "base_uri": "https://localhost:8080/"
        },
        "id": "BNFyoGowYhrB",
        "outputId": "a0373ef6-c444-4f60-d0dc-a46606469ab3"
      },
      "outputs": [
        {
          "data": {
            "text/plain": [
              "array([[ 1.76405235,  0.40015721,  0.97873798,  2.2408932 ],\n",
              "       [ 1.86755799, -0.97727788,  0.95008842, -0.15135721],\n",
              "       [-0.10321885,  0.4105985 ,  0.14404357,  1.45427351],\n",
              "       [ 0.76103773,  0.12167502,  0.44386323,  0.33367433]])"
            ]
          },
          "execution_count": 30,
          "metadata": {},
          "output_type": "execute_result"
        }
      ],
      "source": [
        "np.random.seed(0)\n",
        "d=np.random.randn(4,4)\n",
        "d\n",
        "# note that same sequence is generated again"
      ]
    },
    {
      "cell_type": "code",
      "execution_count": 41,
      "metadata": {
        "colab": {
          "base_uri": "https://localhost:8080/"
        },
        "id": "2ECLyNn8ZL--",
        "outputId": "ef1ed441-d7c5-4229-d93e-1d60f9a866bb"
      },
      "outputs": [
        {
          "name": "stdout",
          "output_type": "stream",
          "text": [
            "uint8\n",
            "float64\n"
          ]
        }
      ],
      "source": [
        "z = np.arange(3, dtype=np.uint8)\n",
        "print(z.dtype)\n",
        "new_z = z.astype(np.float64)\n",
        "print(new_z.dtype)"
      ]
    },
    {
      "cell_type": "code",
      "execution_count": 38,
      "metadata": {
        "colab": {
          "base_uri": "https://localhost:8080/"
        },
        "id": "zib1ecs1ZSdN",
        "outputId": "bde3f752-195b-4427-9389-ed0d7a83b4bf"
      },
      "outputs": [
        {
          "data": {
            "text/plain": [
              "array([1., 2., 3.], dtype=float32)"
            ]
          },
          "execution_count": 38,
          "metadata": {},
          "output_type": "execute_result"
        }
      ],
      "source": [
        "n1 = np.array([1, 2, 3], dtype='f')\n",
        "n1"
      ]
    },
    {
      "cell_type": "code",
      "execution_count": 39,
      "metadata": {
        "colab": {
          "base_uri": "https://localhost:8080/"
        },
        "id": "B8qD3NZbZeXp",
        "outputId": "6149b312-eb8b-4aee-c7bd-53d00ec1a083"
      },
      "outputs": [
        {
          "data": {
            "text/plain": [
              "dtype('float64')"
            ]
          },
          "execution_count": 39,
          "metadata": {},
          "output_type": "execute_result"
        }
      ],
      "source": [
        "n1 = np.array([1, 2, 3], dtype='d')\n",
        "n1.dtype"
      ]
    },
    {
      "cell_type": "code",
      "execution_count": 43,
      "metadata": {
        "colab": {
          "base_uri": "https://localhost:8080/"
        },
        "id": "sJ_BJ_kwaoIv",
        "outputId": "d7061476-7707-4e9e-eb62-d6cd50e60479"
      },
      "outputs": [
        {
          "name": "stdout",
          "output_type": "stream",
          "text": [
            "int64\n",
            "True\n",
            "False\n"
          ]
        }
      ],
      "source": [
        "d = np.dtype(np.int64)\n",
        "print(d)\n",
        "\n",
        "print(np.issubdtype(d, np.integer))\n",
        "\n",
        "\n",
        "print(np.issubdtype(d, np.floating))\n"
      ]
    },
    {
      "cell_type": "code",
      "execution_count": null,
      "metadata": {
        "colab": {
          "base_uri": "https://localhost:8080/"
        },
        "id": "tkOLAkWkCsMs",
        "outputId": "96bf6ae1-c673-4db9-f83d-3ab605e9f2cf"
      },
      "outputs": [
        {
          "name": "stdout",
          "output_type": "stream",
          "text": [
            "[1 2 3 4 5]\n",
            "[[1 2]\n",
            " [3 4]\n",
            " [5 6]]\n",
            "[[[1 2]\n",
            "  [3 4]]\n",
            "\n",
            " [[5 6]\n",
            "  [7 8]]]\n"
          ]
        }
      ],
      "source": [
        "#Vector\n",
        "vector = np.array([1, 2, 3, 4, 5])\n",
        "print(vector)\n",
        "\n",
        "#Matrix\n",
        "matrix = np.array([[1, 2], [3, 4], [5, 6]])\n",
        "print(matrix)\n",
        "\n",
        "#Tensor\n",
        "tensor = np.array([[[1, 2], [3, 4]], [[5, 6], [7, 8]]])\n",
        "print(tensor)"
      ]
    },
    {
      "cell_type": "code",
      "execution_count": null,
      "metadata": {
        "colab": {
          "base_uri": "https://localhost:8080/"
        },
        "id": "TRkdKaubURjm",
        "outputId": "d8e6b250-be6a-4263-9db3-572f88f35ebd"
      },
      "outputs": [
        {
          "name": "stdout",
          "output_type": "stream",
          "text": [
            "[[1 2 3]\n",
            " [4 5 1]]\n",
            "Size:  6\n",
            "Dimension:  2\n",
            "Shape:  (2, 3)\n",
            "Data Type:  int64\n"
          ]
        }
      ],
      "source": [
        "# Properties of Array\n",
        "# Numpy operations are optimized because of similar data type\n",
        "arr = np.array([[1, 2, 3], [4, 5, True]])\n",
        "print(arr)\n",
        "print(\"Size: \", arr.size) # No of elements\n",
        "print(\"Dimension: \", arr.ndim) # 2D array\n",
        "print(\"Shape: \", arr.shape)\n",
        "print(\"Data Type: \", arr.dtype)"
      ]
    },
    {
      "cell_type": "code",
      "execution_count": null,
      "metadata": {
        "colab": {
          "base_uri": "https://localhost:8080/"
        },
        "id": "pYK4lYePWRc-",
        "outputId": "cbf02030-f473-4f5b-e9a7-a6901da19230"
      },
      "outputs": [
        {
          "name": "stdout",
          "output_type": "stream",
          "text": [
            "original array  [ 0  1  2  3  4  5  6  7  8  9 10 11]\n",
            "[[ 0  1  2  3]\n",
            " [ 4  5  6  7]\n",
            " [ 8  9 10 11]]\n",
            "[ 0  1  2  3  4  5  6  7  8  9 10 11]\n",
            "[ 0  1  2  3  4  5  6  7  8  9 10 11]\n",
            "[[100   1   2   3]\n",
            " [  4   5   6   7]\n",
            " [  8   9  10  11]]\n",
            "[[100   4   8]\n",
            " [  1   5   9]\n",
            " [  2   6  10]\n",
            " [  3   7  11]]\n"
          ]
        }
      ],
      "source": [
        "# Array Reshaping\n",
        "array = np.arange(12)\n",
        "print(\"original array \", array)\n",
        "\n",
        "arr1 = array.reshape(3, 4)\n",
        "print(arr1)\n",
        "\n",
        "arr2 = arr1.flatten()\n",
        "print(arr2)\n",
        "\n",
        "# ravel returns view instead of copy\n",
        "arr3 = arr1.ravel()\n",
        "print(arr3)\n",
        "arr3[0] = 100\n",
        "print(arr1)\n",
        "\n",
        "transpose = arr1.T\n",
        "print(transpose)"
      ]
    },
    {
      "cell_type": "code",
      "execution_count": null,
      "metadata": {
        "colab": {
          "base_uri": "https://localhost:8080/"
        },
        "id": "t3i_kj0tHI7X",
        "outputId": "32907fee-200e-440b-bf2a-c4dcf1d3fd44"
      },
      "outputs": [
        {
          "name": "stdout",
          "output_type": "stream",
          "text": [
            "[ 0  1  2  3  4  5  6  7  8  9 10 11]\n",
            "Basic slicing:  [1 2 3 4 5 6]\n",
            "with step:  [1 3 5 7]\n",
            "negative indexing:  9\n"
          ]
        }
      ],
      "source": [
        "# Numpy Array Operations\n",
        "arr = np.arange(12)\n",
        "print(arr)\n",
        "print(\"Basic slicing: \", arr[1: 7])\n",
        "print(\"with step: \", arr[1: 8: 2])\n",
        "print(\"negative indexing: \", arr[-3])"
      ]
    },
    {
      "cell_type": "code",
      "execution_count": null,
      "metadata": {
        "colab": {
          "base_uri": "https://localhost:8080/"
        },
        "id": "Hwi6kl_SLGbM",
        "outputId": "620eff55-0c96-42ba-fd04-373c7b01d37f"
      },
      "outputs": [
        {
          "name": "stdout",
          "output_type": "stream",
          "text": [
            "6\n",
            "a complete row [1 2 3]\n",
            "a complete column  [3 6 9]\n"
          ]
        }
      ],
      "source": [
        "arr = np.array([[1, 2, 3], [4, 5, 6], [7, 8, 9]])\n",
        "print(arr[1, 2])\n",
        "print(\"a complete row\", arr[0])\n",
        "print(\"a complete column \", arr[:, 2])"
      ]
    },
    {
      "cell_type": "code",
      "execution_count": null,
      "metadata": {
        "colab": {
          "base_uri": "https://localhost:8080/"
        },
        "id": "aY7iiRBELsax",
        "outputId": "394cbe3a-a9a7-497f-bd46-50b3cd4f2e1e"
      },
      "outputs": [
        {
          "name": "stdout",
          "output_type": "stream",
          "text": [
            "[0 1 2 3 5 8 9 9]\n",
            "column sorting [[2 1]\n",
            " [3 2]\n",
            " [4 3]]\n",
            "row sorting [[2 4]\n",
            " [1 2]\n",
            " [3 3]]\n"
          ]
        }
      ],
      "source": [
        "# Sorting\n",
        "array = [5, 9, 3, 9, 2, 8, 0, 1]\n",
        "print(np.sort(array))\n",
        "array_2d = [[4, 2], [2, 1], [3, 3]]\n",
        "print(\"column sorting\", np.sort(array_2d, axis=0)) # axis = 0 means column wise\n",
        "print(\"row sorting\", np.sort(array_2d, axis=1)) # axis = 0 means row wise"
      ]
    },
    {
      "cell_type": "code",
      "execution_count": null,
      "metadata": {
        "colab": {
          "base_uri": "https://localhost:8080/"
        },
        "id": "5XqPT_2zNvrS",
        "outputId": "07c57f2a-0610-4ff6-fad4-07f3da588dd2"
      },
      "outputs": [
        {
          "name": "stdout",
          "output_type": "stream",
          "text": [
            "[ 0  2  4  6  8 10]\n",
            "[False False False False False False  True  True  True  True  True]\n",
            "[ 6  7  8  9 10]\n"
          ]
        }
      ],
      "source": [
        "# Filters\n",
        "array = np.arange(11)\n",
        "print(array[array % 2 == 0])\n",
        "\n",
        "# Filters with mask\n",
        "mask = array > 5\n",
        "print(mask)\n",
        "print(array[mask])"
      ]
    },
    {
      "cell_type": "code",
      "execution_count": null,
      "metadata": {
        "colab": {
          "base_uri": "https://localhost:8080/"
        },
        "id": "2sMkoV--OI8V",
        "outputId": "63f63022-bd62-44d3-e486-24178724d4c5"
      },
      "outputs": [
        {
          "name": "stdout",
          "output_type": "stream",
          "text": [
            "[1 3 5 6]\n",
            "(array([8]),)\n",
            "[9]\n"
          ]
        }
      ],
      "source": [
        "# Fancy indexing vs np.where()\n",
        "indices = [0, 2, 4, 5]\n",
        "numbers = np.array([1, 2, 3, 4, 5, 6, 7, 8, 9])\n",
        "print(numbers[indices])\n",
        "\n",
        "nums = np.where(numbers > 8)\n",
        "print(nums)\n",
        "print(numbers[nums])"
      ]
    },
    {
      "cell_type": "code",
      "execution_count": null,
      "metadata": {
        "colab": {
          "base_uri": "https://localhost:8080/"
        },
        "id": "zoV6_abDag3Y",
        "outputId": "78808dd5-123f-4ca2-dabc-1e4344b9d88d"
      },
      "outputs": [
        {
          "name": "stdout",
          "output_type": "stream",
          "text": [
            "[ 4  4  4  4  4 42 49 56 63]\n",
            "[1 2 3 4 5 6 7 8 9]\n"
          ]
        }
      ],
      "source": [
        "# Creating Arrays from conditions\n",
        "result = np.where(numbers > 5, numbers * 7, 4)\n",
        "print(result)\n",
        "result = np.where(numbers > 2, numbers, numbers)\n",
        "print(result)"
      ]
    },
    {
      "cell_type": "code",
      "execution_count": null,
      "metadata": {
        "colab": {
          "base_uri": "https://localhost:8080/"
        },
        "id": "SxGtKsD6bkCU",
        "outputId": "133982cf-440b-4b53-d2cd-62002b924f4e"
      },
      "outputs": [
        {
          "name": "stdout",
          "output_type": "stream",
          "text": [
            "[5 7 9]\n",
            "[1 2 3 4 5 6]\n"
          ]
        }
      ],
      "source": [
        "# Adding and Removing Data\n",
        "arr1 = np.array([1, 2, 3])\n",
        "arr2 = np.array([4, 5, 6])\n",
        "print(arr1 + arr2)\n",
        "print(np.concatenate((arr1, arr2)))"
      ]
    },
    {
      "cell_type": "code",
      "execution_count": null,
      "metadata": {
        "colab": {
          "base_uri": "https://localhost:8080/"
        },
        "id": "pRm9puBHc9xT",
        "outputId": "75dd6ecc-96e8-4f4a-b48d-8027311eddd4"
      },
      "outputs": [
        {
          "name": "stdout",
          "output_type": "stream",
          "text": [
            "False\n",
            "True\n"
          ]
        }
      ],
      "source": [
        "# Array Compatibility\n",
        "arr1 = np.array([1, 2, 3])\n",
        "arr2 = np.array([4, 5, 6, 7])\n",
        "arr3 = np.array([8, 9, 10])\n",
        "print(arr1.shape == arr2.shape)\n",
        "print(arr1.shape == arr3.shape)"
      ]
    },
    {
      "cell_type": "code",
      "execution_count": null,
      "metadata": {
        "colab": {
          "base_uri": "https://localhost:8080/"
        },
        "id": "OQisaTk_f2Yh",
        "outputId": "e815761b-c130-4628-8c32-4e9363f36227"
      },
      "outputs": [
        {
          "name": "stdout",
          "output_type": "stream",
          "text": [
            "[[ 1  2  3  4]\n",
            " [ 5  6  7  8]\n",
            " [ 9 10 11 12]]\n",
            "[[1 2 3 4]\n",
            " [5 6 7 8]]\n",
            "[[1 2 3 4 1]\n",
            " [5 6 7 8 9]]\n"
          ]
        }
      ],
      "source": [
        "# hstack and vstack\n",
        "#Adding new row\n",
        "array = np.array([[1, 2, 3, 4], [5, 6, 7, 8]])\n",
        "new_row = np.array([9, 10, 11, 12])\n",
        "print(np.vstack((array, new_row)))\n",
        "\n",
        "print(array)\n",
        "new_column = np.array([[1], [9]])\n",
        "print(np.hstack((array, new_column)))"
      ]
    },
    {
      "cell_type": "code",
      "execution_count": null,
      "metadata": {
        "colab": {
          "base_uri": "https://localhost:8080/"
        },
        "id": "kj6asjT2hA4q",
        "outputId": "f40c46c8-8148-455d-c2ac-ceb00ba50d93"
      },
      "outputs": [
        {
          "name": "stdout",
          "output_type": "stream",
          "text": [
            "[2 3 4 5 6 7 8 9]\n",
            "[2 3 4 5 7 8 9]\n"
          ]
        }
      ],
      "source": [
        "array = np.arange(2, 10)\n",
        "print(array)\n",
        "\n",
        "print(np.delete(array, 4))"
      ]
    },
    {
      "cell_type": "code",
      "execution_count": null,
      "metadata": {
        "colab": {
          "base_uri": "https://localhost:8080/"
        },
        "collapsed": true,
        "id": "3cAd4tHPipYB",
        "outputId": "d99cdbf1-507e-444e-ea21-ca8697af6be4"
      },
      "outputs": [
        {
          "name": "stdout",
          "output_type": "stream",
          "text": [
            "=== Sales Analysis ===\n",
            "(5, 5)\n",
            "Printing data of 1st three restaurants \n",
            " [[     1 150000 180000 220000 250000]\n",
            " [     2 120000 140000 160000 190000]\n",
            " [     3 200000 230000 260000 300000]]\n",
            "Printing data of 1st three restaurants after removing IDs \n",
            " [[150000 180000 220000 250000]\n",
            " [120000 140000 160000 190000]\n",
            " [200000 230000 260000 300000]\n",
            " [180000 210000 240000 270000]\n",
            " [160000 185000 205000 230000]]\n"
          ]
        }
      ],
      "source": [
        "# Data structure: [restaurant_id, 2021, 2022, 2023, 2024]\n",
        "sales_data = np.array([\n",
        "    [1, 150000, 180000, 220000, 250000],  # Paradise Biryani\n",
        "    [2, 120000, 140000, 160000, 190000],  # Beijing Bites\n",
        "    [3, 200000, 230000, 260000, 300000],  # Pizza Hub\n",
        "    [4, 180000, 210000, 240000, 270000],  # Burger Point\n",
        "    [5, 160000, 185000, 205000, 230000]   # Chai Point\n",
        "])\n",
        "\n",
        "print(\"=== Sales Analysis ===\")\n",
        "print(sales_data.shape)\n",
        "print(\"Printing data of 1st three restaurants \\n\", sales_data[: 3])\n",
        "print(\"Printing data of 1st three restaurants after removing IDs \\n\", sales_data[:,1:]) # All rows, but columns from 1th"
      ]
    },
    {
      "cell_type": "code",
      "execution_count": null,
      "metadata": {
        "colab": {
          "base_uri": "https://localhost:8080/"
        },
        "id": "acvsRKpD0j-o",
        "outputId": "8b87d6b2-b79a-4226-fd51-8bfb780656a6"
      },
      "outputs": [
        {
          "name": "stdout",
          "output_type": "stream",
          "text": [
            "[ 810000  945000 1085000 1240000]\n",
            "[150000 120000 200000 180000 160000]\n",
            "[200000 230000 260000 300000]\n",
            "[200000. 152500. 247500. 225000. 195000.]\n",
            "[[150000 330000 550000 800000]\n",
            " [120000 260000 420000 610000]\n",
            " [200000 430000 690000 990000]\n",
            " [180000 390000 630000 900000]\n",
            " [160000 345000 550000 780000]]\n"
          ]
        }
      ],
      "source": [
        " # total sales per year\n",
        "print(np.sum(sales_data[:, 1:], axis = 0))\n",
        "\n",
        "# Minimum sales per restaurant\n",
        "print(np.min(sales_data[:, 1:], axis = 1))\n",
        "\n",
        "# Maximum sales per year\n",
        "print(np.max(sales_data[:, 1:], axis = 0))\n",
        "\n",
        "# Average sales per restaurant\n",
        "print(np.mean(sales_data[:, 1:], axis = 1))\n",
        "\n",
        "# cumsum for restaurant\n",
        "cumsum = np.cumsum(sales_data[:, 1:], axis = 1)\n",
        "print(cumsum)"
      ]
    },
    {
      "cell_type": "code",
      "execution_count": null,
      "metadata": {
        "colab": {
          "base_uri": "https://localhost:8080/",
          "height": 410
        },
        "id": "Z2zjxZg279FO",
        "outputId": "507b5b79-2917-4c5a-e203-91a1c2e97b50"
      },
      "outputs": [
        {
          "data": {
            "image/png": "[encoded data removed]",
            "text/plain": [
              "<Figure size 600x400 with 1 Axes>"
            ]
          },
          "metadata": {},
          "output_type": "display_data"
        }
      ],
      "source": [
        "import matplotlib.pyplot as plt\n",
        "plt.figure(figsize=(6, 4))\n",
        "plt.plot(np.mean(cumsum, axis=0))\n",
        "plt.title(\"Average sales across all restaurants\")\n",
        "plt.xlabel(\"Years\")\n",
        "plt.ylabel(\"Sales\")\n",
        "plt.grid(True)\n",
        "plt.show()"
      ]
    },
    {
      "cell_type": "code",
      "execution_count": null,
      "metadata": {
        "colab": {
          "base_uri": "https://localhost:8080/"
        },
        "id": "5mMJUb-OFf9q",
        "outputId": "03b4f95f-d3b8-46d5-f46c-b11fb0138735"
      },
      "outputs": [
        {
          "name": "stdout",
          "output_type": "stream",
          "text": [
            "Vector Addition  [5 7 9]\n",
            "Vector multiplication  [ 4 10 18]\n",
            "Vector multiplication  [[ 13  -2]\n",
            " [ 17 -13]]\n",
            "Dot Product 48\n",
            "Angle in radians 0.9272952180016123\n",
            "['CHINESE' 'DESI' 'BBQ' 'ITALIAN']\n",
            "['Chinese' 'Desi' 'Bbq' 'Italian']\n",
            "[[12500. 15000. 18333. 20833.]\n",
            " [10000. 11667. 13333. 15833.]\n",
            " [16667. 19167. 21667. 25000.]\n",
            " [15000. 17500. 20000. 22500.]\n",
            " [13333. 15417. 17083. 19167.]]\n"
          ]
        }
      ],
      "source": [
        "# Vector Addition\n",
        "vector1 = np.array([1, 2, 3])\n",
        "vector2 = np.array([4, 5, 6])\n",
        "print(\"Vector Addition \", vector1 + vector2)\n",
        "\n",
        "# Vector multiplication\n",
        "print(\"Vector multiplication \", vector1 * vector2)\n",
        "\n",
        "vector3 = np.array([[1, -1, 2],\n",
        "              [0,  3, 4]])\n",
        "\n",
        "vector4 = np.array([[ 2,  7],\n",
        "              [-1,  1],\n",
        "              [ 5, -4]])\n",
        "print(\"Vector multiplication \", np.dot(vector3, vector4))\n",
        "\n",
        "# Dot Product\n",
        "vector5 = np.array([6, 8, 0])\n",
        "vector6 = np.array([8, 0, 0])\n",
        "print(\"Dot Product\", np.dot(vector5, vector6))\n",
        "\n",
        "# Angle\n",
        "angle = np.arccos(np.dot(vector5, vector6) / (np.linalg.norm(vector5) * np.linalg.norm(vector6)))\n",
        "print(\"Angle in radians\", angle)\n",
        "\n",
        "# Vectorized Operations\n",
        "restaurant_types = [\"chinese\", \"desi\", \"bbq\", \"italian\"]\n",
        "upper_case = np.vectorize(str.upper)\n",
        "capitalize = np.vectorize(str.capitalize)\n",
        "print(upper_case(restaurant_types))\n",
        "print(capitalize(restaurant_types))\n",
        "\n",
        "\n",
        "# Monthly average\n",
        "monthly_avg = sales_data[:, 1:] / 12\n",
        "print(monthly_avg.round())\n",
        "\n",
        "\n"
      ]
    },
    {
      "cell_type": "code",
      "execution_count": null,
      "metadata": {
        "colab": {
          "base_uri": "https://localhost:8080/"
        },
        "id": "_-Ia8Jc1VINw",
        "outputId": "85ad6b6c-bb76-4e17-b93b-fa282ec6784f"
      },
      "outputs": [
        {
          "name": "stdout",
          "output_type": "stream",
          "text": [
            "[[1 2 3]\n",
            " [4 5 6]]\n",
            "[[0.00710534 0.652986  ]\n",
            " [0.80081917 0.74282904]\n",
            " [0.12179355 0.34368129]]\n",
            "[[0. 0. 0. 0.]\n",
            " [0. 0. 0. 0.]\n",
            " [0. 0. 0. 0.]\n",
            " [0. 0. 0. 0.]]\n",
            "[[1 2 3]\n",
            " [4 5 6]]\n"
          ]
        }
      ],
      "source": [
        "array1 = np.array([[1, 2, 3], [4, 5, 6]])\n",
        "array2 = np.random.rand(3, 2)\n",
        "array3 = np.zeros((4, 4))\n",
        "\n",
        "print(array1)\n",
        "print(array2)\n",
        "print(array3)\n",
        "\n",
        "np.save('array1.npy', array1)\n",
        "np.save('array2.npy', array2)\n",
        "np.save('array3.npy', array3)\n",
        "\n",
        "loaded_array = np.load('array1.npy')\n",
        "print(loaded_array)"
      ]
    },
    {
      "cell_type": "code",
      "execution_count": null,
      "metadata": {
        "colab": {
          "base_uri": "https://localhost:8080/",
          "height": 74
        },
        "id": "-_iicqS_dS1-",
        "outputId": "9d1f6d7b-f790-4994-a555-5b9262ea3d4f"
      },
      "outputs": [
        {
          "data": {
            "text/html": [
              "\n",
              "     <input type=\"file\" id=\"files-0ff9f16e-25b0-49ea-bb86-fd3b99edd9b5\" name=\"files[]\" multiple disabled\n",
              "        style=\"border:none\" />\n",
              "     <output id=\"result-0ff9f16e-25b0-49ea-bb86-fd3b99edd9b5\">\n",
              "      Upload widget is only available when the cell has been executed in the\n",
              "      current browser session. Please rerun this cell to enable.\n",
              "      </output>\n",
              "      <script>// Copyright 2017 Google LLC\n",
              "//\n",
              "// Licensed under the Apache License, Version 2.0 (the \"License\");\n",
              "// you may not use this file except in compliance with the License.\n",
              "// You may obtain a copy of the License at\n",
              "//\n",
              "//      http://www.apache.org/licenses/LICENSE-2.0\n",
              "//\n",
              "// Unless required by applicable law or agreed to in writing, software\n",
              "// distributed under the License is distributed on an \"AS IS\" BASIS,\n",
              "// WITHOUT WARRANTIES OR CONDITIONS OF ANY KIND, either express or implied.\n",
              "// See the License for the specific language governing permissions and\n",
              "// limitations under the License.\n",
              "\n",
              "/**\n",
              " * @fileoverview Helpers for google.colab Python module.\n",
              " */\n",
              "(function(scope) {\n",
              "function span(text, styleAttributes = {}) {\n",
              "  const element = document.createElement('span');\n",
              "  element.textContent = text;\n",
              "  for (const key of Object.keys(styleAttributes)) {\n",
              "    element.style[key] = styleAttributes[key];\n",
              "  }\n",
              "  return element;\n",
              "}\n",
              "\n",
              "// Max number of bytes which will be uploaded at a time.\n",
              "const MAX_PAYLOAD_SIZE = 100 * 1024;\n",
              "\n",
              "function _uploadFiles(inputId, outputId) {\n",
              "  const steps = uploadFilesStep(inputId, outputId);\n",
              "  const outputElement = document.getElementById(outputId);\n",
              "  // Cache steps on the outputElement to make it available for the next call\n",
              "  // to uploadFilesContinue from Python.\n",
              "  outputElement.steps = steps;\n",
              "\n",
              "  return _uploadFilesContinue(outputId);\n",
              "}\n",
              "\n",
              "// This is roughly an async generator (not supported in the browser yet),\n",
              "// where there are multiple asynchronous steps and the Python side is going\n",
              "// to poll for completion of each step.\n",
              "// This uses a Promise to block the python side on completion of each step,\n",
              "// then passes the result of the previous step as the input to the next step.\n",
              "function _uploadFilesContinue(outputId) {\n",
              "  const outputElement = document.getElementById(outputId);\n",
              "  const steps = outputElement.steps;\n",
              "\n",
              "  const next = steps.next(outputElement.lastPromiseValue);\n",
              "  return Promise.resolve(next.value.promise).then((value) => {\n",
              "    // Cache the last promise value to make it available to the next\n",
              "    // step of the generator.\n",
              "    outputElement.lastPromiseValue = value;\n",
              "    return next.value.response;\n",
              "  });\n",
              "}\n",
              "\n",
              "/**\n",
              " * Generator function which is called between each async step of the upload\n",
              " * process.\n",
              " * @param {string} inputId Element ID of the input file picker element.\n",
              " * @param {string} outputId Element ID of the output display.\n",
              " * @return {!Iterable<!Object>} Iterable of next steps.\n",
              " */\n",
              "function* uploadFilesStep(inputId, outputId) {\n",
              "  const inputElement = document.getElementById(inputId);\n",
              "  inputElement.disabled = false;\n",
              "\n",
              "  const outputElement = document.getElementById(outputId);\n",
              "  outputElement.innerHTML = '';\n",
              "\n",
              "  const pickedPromise = new Promise((resolve) => {\n",
              "    inputElement.addEventListener('change', (e) => {\n",
              "      resolve(e.target.files);\n",
              "    });\n",
              "  });\n",
              "\n",
              "  const cancel = document.createElement('button');\n",
              "  inputElement.parentElement.appendChild(cancel);\n",
              "  cancel.textContent = 'Cancel upload';\n",
              "  const cancelPromise = new Promise((resolve) => {\n",
              "    cancel.onclick = () => {\n",
              "      resolve(null);\n",
              "    };\n",
              "  });\n",
              "\n",
              "  // Wait for the user to pick the files.\n",
              "  const files = yield {\n",
              "    promise: Promise.race([pickedPromise, cancelPromise]),\n",
              "    response: {\n",
              "      action: 'starting',\n",
              "    }\n",
              "  };\n",
              "\n",
              "  cancel.remove();\n",
              "\n",
              "  // Disable the input element since further picks are not allowed.\n",
              "  inputElement.disabled = true;\n",
              "\n",
              "  if (!files) {\n",
              "    return {\n",
              "      response: {\n",
              "        action: 'complete',\n",
              "      }\n",
              "    };\n",
              "  }\n",
              "\n",
              "  for (const file of files) {\n",
              "    const li = document.createElement('li');\n",
              "    li.append(span(file.name, {fontWeight: 'bold'}));\n",
              "    li.append(span(\n",
              "        `(${file.type || 'n/a'}) - ${file.size} bytes, ` +\n",
              "        `last modified: ${\n",
              "            file.lastModifiedDate ? file.lastModifiedDate.toLocaleDateString() :\n",
              "                                    'n/a'} - `));\n",
              "    const percent = span('0% done');\n",
              "    li.appendChild(percent);\n",
              "\n",
              "    outputElement.appendChild(li);\n",
              "\n",
              "    const fileDataPromise = new Promise((resolve) => {\n",
              "      const reader = new FileReader();\n",
              "      reader.onload = (e) => {\n",
              "        resolve(e.target.result);\n",
              "      };\n",
              "      reader.readAsArrayBuffer(file);\n",
              "    });\n",
              "    // Wait for the data to be ready.\n",
              "    let fileData = yield {\n",
              "      promise: fileDataPromise,\n",
              "      response: {\n",
              "        action: 'continue',\n",
              "      }\n",
              "    };\n",
              "\n",
              "    // Use a chunked sending to avoid message size limits. See b/62115660.\n",
              "    let position = 0;\n",
              "    do {\n",
              "      const length = Math.min(fileData.byteLength - position, MAX_PAYLOAD_SIZE);\n",
              "      const chunk = new Uint8Array(fileData, position, length);\n",
              "      position += length;\n",
              "\n",
              "      const base64 = btoa(String.fromCharCode.apply(null, chunk));\n",
              "      yield {\n",
              "        response: {\n",
              "          action: 'append',\n",
              "          file: file.name,\n",
              "          data: base64,\n",
              "        },\n",
              "      };\n",
              "\n",
              "      let percentDone = fileData.byteLength === 0 ?\n",
              "          100 :\n",
              "          Math.round((position / fileData.byteLength) * 100);\n",
              "      percent.textContent = `${percentDone}% done`;\n",
              "\n",
              "    } while (position < fileData.byteLength);\n",
              "  }\n",
              "\n",
              "  // All done.\n",
              "  yield {\n",
              "    response: {\n",
              "      action: 'complete',\n",
              "    }\n",
              "  };\n",
              "}\n",
              "\n",
              "scope.google = scope.google || {};\n",
              "scope.google.colab = scope.google.colab || {};\n",
              "scope.google.colab._files = {\n",
              "  _uploadFiles,\n",
              "  _uploadFilesContinue,\n",
              "};\n",
              "})(self);\n",
              "</script> "
            ],
            "text/plain": [
              "<IPython.core.display.HTML object>"
            ]
          },
          "metadata": {},
          "output_type": "display_data"
        },
        {
          "name": "stdout",
          "output_type": "stream",
          "text": [
            "Saving numpylogo.npy to numpylogo (1).npy\n"
          ]
        }
      ],
      "source": [
        "from google.colab import files\n",
        "uploaded = files.upload()"
      ]
    },
    {
      "cell_type": "code",
      "execution_count": null,
      "metadata": {
        "colab": {
          "base_uri": "https://localhost:8080/",
          "height": 437
        },
        "id": "9jlZ_5Xjmyy4",
        "outputId": "eb6ed8de-11ef-4ce4-b03b-0b5124e80861"
      },
      "outputs": [
        {
          "name": "stdout",
          "output_type": "stream",
          "text": [
            "(1001, 1001, 4)\n",
            "Array dtype: uint8\n",
            "Min value: 0\n",
            "Max value: 255\n"
          ]
        },
        {
          "data": {
            "image/png": "[encoded data removed]",
            "text/plain": [
              "<Figure size 800x400 with 2 Axes>"
            ]
          },
          "metadata": {},
          "output_type": "display_data"
        }
      ],
      "source": [
        "from PIL import Image\n",
        "\n",
        "try:\n",
        "  img = Image.open(\"numpylogo (1).npy\")\n",
        "  logo = np.array(img)\n",
        "  print(logo.shape)\n",
        "\n",
        "  print(\"Array dtype:\", logo.dtype)\n",
        "  print(\"Min value:\", logo.min())\n",
        "  print(\"Max value:\", logo.max())\n",
        "\n",
        "  plt.figure(figsize=(8,4))\n",
        "  plt.subplot(121)\n",
        "  plt.imshow(logo)\n",
        "  plt.grid(False)\n",
        "  plt.title(\"Numpy Logo\")\n",
        "\n",
        "  dark = 255 - logo\n",
        "\n",
        "  plt.subplot(122)\n",
        "  plt.imshow(dark)\n",
        "  plt.grid(False)\n",
        "  plt.title(\"Dark Logo\")\n",
        "\n",
        "except FileNotFoundError:\n",
        "\n",
        "  print(\"File not found\")\n",
        "\n",
        "\n"
      ]
    },
    {
      "cell_type": "code",
      "execution_count": null,
      "metadata": {
        "id": "sXYhCVFXQv_1"
      },
      "outputs": [],
      "source": []
    }
  ],
  "metadata": {
    "colab": {
      "provenance": []
    },
    "kernelspec": {
      "display_name": "Python 3",
      "name": "python3"
    },
    "language_info": {
      "name": "python"
    }
  },
  "nbformat": 4,
  "nbformat_minor": 0
}
